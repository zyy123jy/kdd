{
 "cells": [
  {
   "cell_type": "code",
   "execution_count": 1,
   "metadata": {},
   "outputs": [
    {
     "name": "stderr",
     "output_type": "stream",
     "text": [
      "/home/zyy/.conda/envs/tensorflow/lib/python3.5/site-packages/IPython/core/interactiveshell.py:2728: DtypeWarning: Columns (85,86,91,92,101,102,103,104,105,106,107,108,109,456,820,1398,1643,1645,1651,1652,1881,1882,1883,1884,1885,1886,1887,1888,1889,1890,1891) have mixed types. Specify dtype option on import or set low_memory=False.\n",
      "  interactivity=interactivity, compiler=compiler, result=result)\n"
     ]
    }
   ],
   "source": [
    "import pandas as pd\n",
    "import numpy as np\n",
    "from datetime import datetime\n",
    "\n",
    "header= [\"PTID_Key\", \"AGE\",\"EXAMDATE\", \"PTGENDER\",\"PTEDUCAT\",\n",
    "                       \"APOE4\",\"MMSE\",\"ADAS13\",\"Ventricles\", \"Hippocampus\",\"WholeBrain_bl\",\"CDRSB\"]\n",
    "pdata = pd.read_csv('./data/data.csv')\n",
    "pdata.to_csv('data1.csv', columns = header)\n",
    "pdata = pd.read_csv('./data1.csv')\n",
    "n = len(pdata)\n",
    "id_mat = np.zeros((3057,15),dtype = float)\n",
    "time = np.zeros((3057,15),dtype = float)\n",
    "x = np.zeros((3057,3),dtype = float)\n",
    "mmse = np.zeros((3057,15),dtype = float)\n",
    "adas = np.zeros((3057,15),dtype = float)\n",
    "ven = np.zeros((3057,15),dtype = float)\n",
    "hip = np.zeros((3057,15),dtype = float)\n",
    "cdrs= np.zeros((3057,15),dtype = float)\n",
    "id_index = np.zeros((3057,1),dtype = float)\n",
    "idx = 0\n",
    "t = 0\n",
    "for i in range(0,n):\n",
    "    if (i==0) or (pdata.iloc[i-1,1] == pdata.iloc[i,1]):\n",
    "        id_mat[idx,t] = pdata.iloc[i,1]\n",
    "        age = pdata.iloc[i,2]\n",
    "        if t==0:\n",
    "            baseline = datetime.strptime(pdata.iloc[i,3], '%m/%d/%Y')\n",
    "        date = datetime.strptime(pdata.iloc[i,3], '%m/%d/%Y')\n",
    "        time_to_baseline = abs(date - baseline)\n",
    "        time[idx,t] = age+time_to_baseline.days/365\n",
    "        if len(pdata.iloc[i,4]) == 4:\n",
    "            x[1] = 1\n",
    "        else:\n",
    "            x[1] = 0\n",
    "        x[idx,2] = (pdata.iloc[i,5])/20 # normalize \n",
    "        x[idx,0] = pdata.iloc[i,6]  \n",
    "        mmse[idx,t] = pdata.iloc[i,7]\n",
    "        adas[idx,t] = pdata.iloc[i,8]\n",
    "        ven[idx,t] = pdata.iloc[i,9]\n",
    "        br = float(pdata.iloc[i,11])\n",
    "        hip[idx,t] = pdata.iloc[i,10]\n",
    "        hip[idx,t] = hip[idx,t]/br\n",
    "        ven[idx,t] = ven[idx,t]/br\n",
    "        cdrs[idx,t] = pdata.iloc[i,12] \n",
    "        id_index[idx] = pdata.iloc[i,1]\n",
    "        t = t+1\n",
    "        \n",
    "    else:\n",
    "        idx = idx+1\n",
    "        t = 0\n",
    "\n",
    "np.savetxt('X.txt', x, delimiter='\\t')\n",
    "np.savetxt('Y1.txt', mmse, delimiter='\\t')\n",
    "np.savetxt('Y2.txt', adas, delimiter='\\t')\n",
    "np.savetxt('Y3.txt', ven, delimiter='\\t')\n",
    "np.savetxt('Y4.txt', hip, delimiter='\\t')\n",
    "np.savetxt('Y5.txt', cdrs, delimiter='\\t')\n",
    "np.savetxt('T.txt', time, delimiter='\\t')\n",
    "np.savetxt('idx.txt', id_index, delimiter='\\t')       "
   ]
  },
  {
   "cell_type": "code",
   "execution_count": null,
   "metadata": {},
   "outputs": [],
   "source": []
  },
  {
   "cell_type": "code",
   "execution_count": null,
   "metadata": {},
   "outputs": [],
   "source": []
  }
 ],
 "metadata": {
  "kernelspec": {
   "display_name": "Python 3",
   "language": "python",
   "name": "python3"
  },
  "language_info": {
   "codemirror_mode": {
    "name": "ipython",
    "version": 3
   },
   "file_extension": ".py",
   "mimetype": "text/x-python",
   "name": "python",
   "nbconvert_exporter": "python",
   "pygments_lexer": "ipython3",
   "version": "3.5.1"
  }
 },
 "nbformat": 4,
 "nbformat_minor": 2
}
